{
 "cells": [
  {
   "cell_type": "code",
   "execution_count": null,
   "id": "b55ce847-d605-46f2-b3f3-c1c83ab7167a",
   "metadata": {},
   "outputs": [],
   "source": [
    "%load_ext autoreload\n",
    "%autoreload 2"
   ]
  },
  {
   "cell_type": "code",
   "execution_count": null,
   "id": "aaadbcb2-56ae-4d67-be36-11267fe9e073",
   "metadata": {},
   "outputs": [],
   "source": [
    "import sys\n",
    "sys.path.append(\"/home/user/sources/voice-agent-core\")\n",
    "\n",
    "import json\n",
    "from pprint import pprint\n",
    "import numpy as np\n",
    "from IPython.display import Audio"
   ]
  },
  {
   "cell_type": "code",
   "execution_count": null,
   "id": "654eb333-0e6c-4bcb-aa17-942a0b9eb3a0",
   "metadata": {},
   "outputs": [],
   "source": [
    "from generation import VoiceGenerator\n",
    "from audio import WavSaver"
   ]
  },
  {
   "cell_type": "code",
   "execution_count": null,
   "id": "aee91e89-a273-4b5c-9141-004df9192a10",
   "metadata": {},
   "outputs": [],
   "source": [
    "save_root = \"../data/cached/voice\""
   ]
  },
  {
   "cell_type": "code",
   "execution_count": null,
   "id": "737c9d4a-88e8-4e7d-93b6-30f8f3d000bf",
   "metadata": {},
   "outputs": [],
   "source": [
    "def get_dict_hash(d):\n",
    "    h = hash(frozenset(sorted(d.items())))\n",
    "    return str(h).replace(\"-\", \"n\")\n",
    "\n",
    "def save(cache_params, audio):\n",
    "    audio_path = save_root + f\"/{hash_value}.wav\"\n",
    "    json_path = save_root + f\"/{hash_value}.json\"\n",
    "    \n",
    "    with open(json_path, \"wt\") as f:\n",
    "        json.dump(cache_params, f)\n",
    "    \n",
    "    saver = WavSaver(audio_path, sample_rate=24000)\n",
    "    saver.write(audio)\n",
    "    saver.close()"
   ]
  },
  {
   "cell_type": "code",
   "execution_count": null,
   "id": "e0a96480-512b-4b94-b873-56a365a6e945",
   "metadata": {},
   "outputs": [],
   "source": [
    "model = \"sasha_fox\"\n",
    "voice_generator = VoiceGenerator(cached=False, model_name=model)"
   ]
  },
  {
   "cell_type": "code",
   "execution_count": null,
   "id": "8854e6c6-31da-4f5f-be42-51f0c401e2e4",
   "metadata": {},
   "outputs": [],
   "source": [
    "voice = \"narrator_neutral\"\n",
    "text = \"Hello my love. How are you?\"\n",
    "voice_generator.set_voice(voice)\n",
    "audio = voice_generator.generate(text)"
   ]
  },
  {
   "cell_type": "code",
   "execution_count": null,
   "id": "7cf1438b-6f7a-4849-b393-c6430078cf3e",
   "metadata": {},
   "outputs": [],
   "source": [
    "Audio(audio, rate=24000, autoplay=True)"
   ]
  },
  {
   "cell_type": "code",
   "execution_count": null,
   "id": "a2c60dd5-8343-43d7-af89-975cbb149bfd",
   "metadata": {},
   "outputs": [],
   "source": [
    "cache_params = {\n",
    "    \"tts_model\": model,\n",
    "    \"voice\": voice,\n",
    "    \"text\": text\n",
    "}\n",
    "hash_value = get_dict_hash(cache_params)\n",
    "hash_value"
   ]
  },
  {
   "cell_type": "markdown",
   "id": "c23e5783-051a-402c-948f-c942c024e1c5",
   "metadata": {},
   "source": [
    "### SAVE"
   ]
  },
  {
   "cell_type": "code",
   "execution_count": null,
   "id": "09cd9beb-4da7-4d0c-98e2-6e54232d4d20",
   "metadata": {},
   "outputs": [],
   "source": [
    "save(cache_params, audio)"
   ]
  },
  {
   "cell_type": "code",
   "execution_count": null,
   "id": "ab43957b-537f-48d7-b0da-adf7517a3fc7",
   "metadata": {},
   "outputs": [],
   "source": []
  }
 ],
 "metadata": {
  "kernelspec": {
   "display_name": "Python 3 (ipykernel)",
   "language": "python",
   "name": "python3"
  },
  "language_info": {
   "codemirror_mode": {
    "name": "ipython",
    "version": 3
   },
   "file_extension": ".py",
   "mimetype": "text/x-python",
   "name": "python",
   "nbconvert_exporter": "python",
   "pygments_lexer": "ipython3",
   "version": "3.10.12"
  }
 },
 "nbformat": 4,
 "nbformat_minor": 5
}
