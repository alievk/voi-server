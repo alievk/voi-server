{
 "cells": [
  {
   "cell_type": "code",
   "execution_count": null,
   "id": "b55ce847-d605-46f2-b3f3-c1c83ab7167a",
   "metadata": {},
   "outputs": [],
   "source": [
    "%load_ext autoreload\n",
    "%autoreload 2"
   ]
  },
  {
   "cell_type": "code",
   "execution_count": null,
   "id": "aaadbcb2-56ae-4d67-be36-11267fe9e073",
   "metadata": {},
   "outputs": [],
   "source": [
    "import sys\n",
    "sys.path.append(\"/home/user/sources/voice-agent-core\")\n",
    "\n",
    "import json\n",
    "from pprint import pprint\n",
    "import numpy as np\n",
    "from IPython.display import Audio"
   ]
  },
  {
   "cell_type": "code",
   "execution_count": null,
   "id": "654eb333-0e6c-4bcb-aa17-942a0b9eb3a0",
   "metadata": {},
   "outputs": [],
   "source": [
    "from generation import VoiceGenerator\n",
    "from audio import WavSaver"
   ]
  },
  {
   "cell_type": "code",
   "execution_count": null,
   "id": "e0a96480-512b-4b94-b873-56a365a6e945",
   "metadata": {},
   "outputs": [],
   "source": [
    "model = \"multispeaker_with_sasha_fox_voices\"\n",
    "voice_generator = VoiceGenerator(cached=False, model_name=model)"
   ]
  },
  {
   "cell_type": "code",
   "execution_count": null,
   "id": "8854e6c6-31da-4f5f-be42-51f0c401e2e4",
   "metadata": {},
   "outputs": [],
   "source": [
    "voice = \"character_excited\"\n",
    "text = \"Hello, how are you?\"\n",
    "voice_generator.set_voice(voice)\n",
    "audio = voice_generator.generate(text)"
   ]
  },
  {
   "cell_type": "code",
   "execution_count": null,
   "id": "7cf1438b-6f7a-4849-b393-c6430078cf3e",
   "metadata": {},
   "outputs": [],
   "source": [
    "Audio(audio, rate=24000, autoplay=True)"
   ]
  },
  {
   "cell_type": "code",
   "execution_count": null,
   "id": "17431eac-031a-4ab4-a299-e0169f4e5988",
   "metadata": {},
   "outputs": [],
   "source": [
    "def get_dict_hash(d):\n",
    "    h = hash(frozenset(sorted(d.items())))\n",
    "    return str(h).replace(\"-\", \"n\")"
   ]
  },
  {
   "cell_type": "code",
   "execution_count": null,
   "id": "09cd9beb-4da7-4d0c-98e2-6e54232d4d20",
   "metadata": {},
   "outputs": [],
   "source": [
    "cache_params = {\n",
    "    \"tts_model\": model,\n",
    "    \"voice\": voice,\n",
    "    \"text\": text\n",
    "}\n",
    "hash_value = get_dict_hash(cache_params)\n",
    "hash_value"
   ]
  },
  {
   "cell_type": "code",
   "execution_count": null,
   "id": "7365461b-9f84-440c-b73f-4accc2d402a8",
   "metadata": {},
   "outputs": [],
   "source": [
    "root = \"../data/cached/voice\"\n",
    "audio_path = root + f\"/{hash_value}.wav\"\n",
    "json_path = root + f\"/{hash_value}.json\""
   ]
  },
  {
   "cell_type": "code",
   "execution_count": null,
   "id": "1864b784-9dfd-4379-bdca-d2375a38aa5f",
   "metadata": {},
   "outputs": [],
   "source": [
    "with open(json_path, \"wt\") as f:\n",
    "    json.dump(cache_params, f)\n",
    "\n",
    "saver = WavSaver(audio_path, sample_rate=24000)\n",
    "saver.write(audio)\n",
    "saver.close()"
   ]
  },
  {
   "cell_type": "code",
   "execution_count": null,
   "id": "d9a2af6f-f533-493a-9b04-90c186c51c40",
   "metadata": {},
   "outputs": [],
   "source": []
  }
 ],
 "metadata": {
  "kernelspec": {
   "display_name": "Python 3 (ipykernel)",
   "language": "python",
   "name": "python3"
  },
  "language_info": {
   "codemirror_mode": {
    "name": "ipython",
    "version": 3
   },
   "file_extension": ".py",
   "mimetype": "text/x-python",
   "name": "python",
   "nbconvert_exporter": "python",
   "pygments_lexer": "ipython3",
   "version": "3.10.12"
  }
 },
 "nbformat": 4,
 "nbformat_minor": 5
}
